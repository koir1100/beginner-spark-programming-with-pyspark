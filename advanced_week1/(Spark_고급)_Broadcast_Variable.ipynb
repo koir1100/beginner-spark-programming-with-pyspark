{
  "cells": [
    {
      "cell_type": "code",
      "execution_count": 1,
      "metadata": {
        "colab": {
          "base_uri": "https://localhost:8080/"
        },
        "id": "F3kc9mp5qm4I",
        "outputId": "4a6ed834-58af-4a6f-f9ca-4ee7334a139b"
      },
      "outputs": [
        {
          "output_type": "stream",
          "name": "stdout",
          "text": [
            "Collecting pyspark==3.4.3\n",
            "  Downloading pyspark-3.4.3.tar.gz (311.4 MB)\n",
            "\u001b[2K     \u001b[90m━━━━━━━━━━━━━━━━━━━━━━━━━━━━━━━━━━━━━━━━\u001b[0m \u001b[32m311.4/311.4 MB\u001b[0m \u001b[31m3.9 MB/s\u001b[0m eta \u001b[36m0:00:00\u001b[0m\n",
            "\u001b[?25h  Preparing metadata (setup.py) ... \u001b[?25l\u001b[?25hdone\n",
            "Requirement already satisfied: py4j==0.10.9.7 in /usr/local/lib/python3.10/dist-packages (0.10.9.7)\n",
            "Building wheels for collected packages: pyspark\n",
            "  Building wheel for pyspark (setup.py) ... \u001b[?25l\u001b[?25hdone\n",
            "  Created wheel for pyspark: filename=pyspark-3.4.3-py2.py3-none-any.whl size=311885495 sha256=5b0830738ad251e8c651fecc07293c29fce62c51a14887d347e43888e68c0a8c\n",
            "  Stored in directory: /root/.cache/pip/wheels/ea/a9/64/3713eb2c5048c18bae2778b013e5fc74203f5c22d4640fb776\n",
            "Successfully built pyspark\n",
            "Installing collected packages: pyspark\n",
            "Successfully installed pyspark-3.4.3\n"
          ]
        }
      ],
      "source": [
        "!pip install pyspark==3.4.3 py4j==0.10.9.7 # supported version change"
      ]
    },
    {
      "cell_type": "code",
      "execution_count": 2,
      "metadata": {
        "colab": {
          "base_uri": "https://localhost:8080/"
        },
        "id": "tWQ7HjI6rje-",
        "outputId": "971e2f0f-4920-499d-c9d3-3f36ed375846"
      },
      "outputs": [
        {
          "output_type": "stream",
          "name": "stdout",
          "text": [
            "--2024-07-08 06:20:59--  https://s3-geospatial.s3-us-west-2.amazonaws.com/Marvel_names.txt\n",
            "Resolving s3-geospatial.s3-us-west-2.amazonaws.com (s3-geospatial.s3-us-west-2.amazonaws.com)... 52.92.179.122, 3.5.84.177, 52.92.133.170, ...\n",
            "Connecting to s3-geospatial.s3-us-west-2.amazonaws.com (s3-geospatial.s3-us-west-2.amazonaws.com)|52.92.179.122|:443... connected.\n",
            "HTTP request sent, awaiting response... 200 OK\n",
            "Length: 351848 (344K) [text/plain]\n",
            "Saving to: ‘./data/Marvel_names.txt’\n",
            "\n",
            "Marvel_names.txt    100%[===================>] 343.60K  1.36MB/s    in 0.2s    \n",
            "\n",
            "2024-07-08 06:20:59 (1.36 MB/s) - ‘./data/Marvel_names.txt’ saved [351848/351848]\n",
            "\n"
          ]
        }
      ],
      "source": [
        "!wget https://s3-geospatial.s3-us-west-2.amazonaws.com/Marvel_names.txt -P ./data"
      ]
    },
    {
      "cell_type": "code",
      "execution_count": 3,
      "metadata": {
        "colab": {
          "base_uri": "https://localhost:8080/"
        },
        "id": "W4fbRep_sBzU",
        "outputId": "ca3096cd-9376-4744-b0c5-e1fd3dce7ed0"
      },
      "outputs": [
        {
          "output_type": "stream",
          "name": "stdout",
          "text": [
            "1 \"24-HOUR MAN/EMMANUEL\"\r\n",
            "2 \"3-D MAN/CHARLES CHAN\"\r\n",
            "3 \"4-D MAN/MERCURIO\"\r\n",
            "4 \"8-BALL/\"\r\n",
            "5 \"A\"\r\n"
          ]
        }
      ],
      "source": [
        "!head -5 ./data/Marvel_names.txt"
      ]
    },
    {
      "cell_type": "code",
      "execution_count": 4,
      "metadata": {
        "colab": {
          "base_uri": "https://localhost:8080/"
        },
        "id": "hYOM-UaqsEkC",
        "outputId": "e0975e89-4141-4200-faf9-3db4c45ec881"
      },
      "outputs": [
        {
          "output_type": "stream",
          "name": "stdout",
          "text": [
            "--2024-07-08 06:21:00--  https://s3-geospatial.s3-us-west-2.amazonaws.com/Marvel_graph.txt\n",
            "Resolving s3-geospatial.s3-us-west-2.amazonaws.com (s3-geospatial.s3-us-west-2.amazonaws.com)... 52.92.200.106, 52.92.201.146, 52.92.147.234, ...\n",
            "Connecting to s3-geospatial.s3-us-west-2.amazonaws.com (s3-geospatial.s3-us-west-2.amazonaws.com)|52.92.200.106|:443... connected.\n",
            "HTTP request sent, awaiting response... 200 OK\n",
            "Length: 1673543 (1.6M) [text/plain]\n",
            "Saving to: ‘./data/Marvel_graph.txt’\n",
            "\n",
            "Marvel_graph.txt    100%[===================>]   1.60M  4.27MB/s    in 0.4s    \n",
            "\n",
            "2024-07-08 06:21:00 (4.27 MB/s) - ‘./data/Marvel_graph.txt’ saved [1673543/1673543]\n",
            "\n"
          ]
        }
      ],
      "source": [
        "!wget https://s3-geospatial.s3-us-west-2.amazonaws.com/Marvel_graph.txt -P ./data"
      ]
    },
    {
      "cell_type": "code",
      "execution_count": 5,
      "metadata": {
        "colab": {
          "base_uri": "https://localhost:8080/"
        },
        "id": "7gureNsxsMTo",
        "outputId": "075e075b-032a-43e2-a05e-38571d4f46b3"
      },
      "outputs": [
        {
          "output_type": "stream",
          "name": "stdout",
          "text": [
            "5988 748 1722 3752 4655 5743 1872 3413 5527 6368 6085 4319 4728 1636 2397 3364 4001 1614 1819 1585 732 2660 3952 2507 3891 2070 2239 2602 612 1352 5447 4548 1596 5488 1605 5517 11 479 2554 2043 17 865 4292 6312 473 534 1479 6375 4456 \r\n",
            "5989 4080 4264 4446 3779 2430 2297 6169 3530 3272 4282 6432 2548 4140 185 105 3878 2429 1334 4595 2767 3956 3877 4776 4946 3407 128 269 5775 5121 481 5516 4758 4053 1044 1602 3889 1535 6038 533 3986 \r\n",
            "5982 217 595 1194 3308 2940 1815 794 1503 5197 859 5096 6039 2664 651 2244 528 284 1449 1097 1172 1092 108 3405 5204 387 4607 4545 3705 4930 1805 4712 4404 247 4754 4427 1845 536 5795 5978 533 3984 6056 \r\n",
            "5983 1165 3836 4361 1282 716 4289 4646 6300 5084 2397 4454 1913 5861 5485 \r\n",
            "5980 2731 3712 1587 6084 2472 2546 6313 875 859 323 2664 1469 522 2506 2919 2423 3624 5736 5046 1787 5776 3245 3840 2399 \r\n"
          ]
        }
      ],
      "source": [
        "!head -5 ./data/Marvel_graph.txt"
      ]
    },
    {
      "cell_type": "code",
      "execution_count": 6,
      "metadata": {
        "colab": {
          "base_uri": "https://localhost:8080/"
        },
        "id": "PkjEx8fasPu-",
        "outputId": "bf446e2d-1a68-4959-92b7-1cf82f44a45e"
      },
      "outputs": [
        {
          "output_type": "stream",
          "name": "stdout",
          "text": [
            "total 8\n",
            "drwxr-xr-x 2 root root 4096 Jul  8 06:21 data\n",
            "drwxr-xr-x 1 root root 4096 Jul  3 13:21 sample_data\n"
          ]
        }
      ],
      "source": [
        "!ls -tl"
      ]
    },
    {
      "cell_type": "code",
      "execution_count": 7,
      "metadata": {
        "id": "DWqDdfepsUEy"
      },
      "outputs": [],
      "source": [
        "from pyspark.sql import SparkSession\n",
        "\n",
        "spark = SparkSession.builder \\\n",
        "        .master(\"local[*]\") \\\n",
        "        .appName(\"PySpark Finding Super-hero\") \\\n",
        "        .getOrCreate()"
      ]
    },
    {
      "cell_type": "code",
      "execution_count": 8,
      "metadata": {
        "id": "t3IbQAUysjDM"
      },
      "outputs": [],
      "source": [
        "import pyspark.sql.functions as F\n",
        "from pyspark.sql.types import StructType, StructField, IntegerType, StringType"
      ]
    },
    {
      "cell_type": "code",
      "execution_count": 9,
      "metadata": {
        "id": "iZdZad1MsuAK"
      },
      "outputs": [],
      "source": [
        "# schema 작성 (Marvel names)\n",
        "\n",
        "marvel_name_schema = StructType([\n",
        "      StructField(\"id\", StringType(), True),\n",
        "      StructField(\"name\", StringType(), True)\n",
        "])"
      ]
    },
    {
      "cell_type": "code",
      "execution_count": 10,
      "metadata": {
        "id": "_tPUX3vPtIDv"
      },
      "outputs": [],
      "source": [
        "names = spark.read.schema(marvel_name_schema).option(\"sep\", \" \").csv(\"./data/Marvel_names.txt\")"
      ]
    },
    {
      "cell_type": "code",
      "execution_count": 11,
      "metadata": {
        "colab": {
          "base_uri": "https://localhost:8080/"
        },
        "id": "XISYq92UtXS3",
        "outputId": "0a9884d6-c57f-41e6-d854-dcc7130f7e02"
      },
      "outputs": [
        {
          "output_type": "stream",
          "name": "stdout",
          "text": [
            "+---+--------------------+\n",
            "| id|                name|\n",
            "+---+--------------------+\n",
            "|  1|24-HOUR MAN/EMMANUEL|\n",
            "|  2|3-D MAN/CHARLES CHAN|\n",
            "|  3|    4-D MAN/MERCURIO|\n",
            "|  4|             8-BALL/|\n",
            "|  5|                   A|\n",
            "+---+--------------------+\n",
            "only showing top 5 rows\n",
            "\n"
          ]
        }
      ],
      "source": [
        "names.show(5)"
      ]
    },
    {
      "cell_type": "code",
      "execution_count": 12,
      "metadata": {
        "id": "9u3HqDdUtaEo"
      },
      "outputs": [],
      "source": [
        "lines = spark.read.text(\"./data/Marvel_graph.txt\")"
      ]
    },
    {
      "cell_type": "code",
      "execution_count": 13,
      "metadata": {
        "colab": {
          "base_uri": "https://localhost:8080/"
        },
        "id": "BSmXDJ_7tgMB",
        "outputId": "af17aa21-c76b-4b77-b7a1-8cb376d3902d"
      },
      "outputs": [
        {
          "output_type": "stream",
          "name": "stdout",
          "text": [
            "+--------------------+\n",
            "|               value|\n",
            "+--------------------+\n",
            "|5988 748 1722 375...|\n",
            "|5989 4080 4264 44...|\n",
            "|5982 217 595 1194...|\n",
            "|5983 1165 3836 43...|\n",
            "|5980 2731 3712 15...|\n",
            "+--------------------+\n",
            "only showing top 5 rows\n",
            "\n"
          ]
        }
      ],
      "source": [
        "lines.show(5)"
      ]
    },
    {
      "cell_type": "code",
      "execution_count": 14,
      "metadata": {
        "id": "rI63UGGethqd"
      },
      "outputs": [],
      "source": [
        "# lines의 스키마에서 value 필드를 super hero ID(\"id\")와 카운트(\"connections\")로 변경\n",
        "# 전략 - 공백 중심으로 split해서 처음 값이 super hero ID이고 뒤의 값이 총 수가 됨"
      ]
    },
    {
      "cell_type": "code",
      "execution_count": 15,
      "metadata": {
        "id": "cx85Sr62yagh"
      },
      "outputs": [],
      "source": [
        "id_connections = lines.withColumn(\"id\", F.split(F.trim(F.col(\"value\")), \" \")[0]) \\\n",
        "                      .withColumn(\"connections\", F.size(F.split(F.trim(F.col(\"value\")), \" \")) - 1)"
      ]
    },
    {
      "cell_type": "code",
      "execution_count": 16,
      "metadata": {
        "colab": {
          "base_uri": "https://localhost:8080/"
        },
        "id": "FkiLDN8Mywy3",
        "outputId": "7a461f2c-af6e-4c77-f102-0460b6b37271"
      },
      "outputs": [
        {
          "output_type": "stream",
          "name": "stdout",
          "text": [
            "+----+-----------+\n",
            "|  id|connections|\n",
            "+----+-----------+\n",
            "|5988|         48|\n",
            "|5989|         40|\n",
            "|5982|         42|\n",
            "|5983|         14|\n",
            "|5980|         24|\n",
            "+----+-----------+\n",
            "only showing top 5 rows\n",
            "\n"
          ]
        }
      ],
      "source": [
        "id_connections.select(\"id\", \"connections\").show(5)"
      ]
    },
    {
      "cell_type": "code",
      "execution_count": 17,
      "metadata": {
        "id": "yTQjuJQqy0KG"
      },
      "outputs": [],
      "source": [
        "connections = id_connections.groupBy(\"id\").agg(F.sum(\"connections\").alias(\"connections\"))"
      ]
    },
    {
      "cell_type": "code",
      "execution_count": 18,
      "metadata": {
        "colab": {
          "base_uri": "https://localhost:8080/"
        },
        "id": "_rx2z6Aay9wX",
        "outputId": "d18361a5-cbd3-4e92-a7a2-b59da7771f7c"
      },
      "outputs": [
        {
          "output_type": "stream",
          "name": "stdout",
          "text": [
            "+----+-----------+\n",
            "|  id|connections|\n",
            "+----+-----------+\n",
            "| 691|          6|\n",
            "|1159|         11|\n",
            "|3959|        142|\n",
            "|1572|         35|\n",
            "|2294|         14|\n",
            "|1090|          4|\n",
            "|3606|        171|\n",
            "|3414|          7|\n",
            "| 296|         17|\n",
            "|4821|         16|\n",
            "|2162|         41|\n",
            "|1436|          9|\n",
            "|1512|         11|\n",
            "|6194|         14|\n",
            "|6240|         11|\n",
            "| 829|         37|\n",
            "|2136|          6|\n",
            "|5645|         20|\n",
            "|2069|        263|\n",
            "| 467|          0|\n",
            "+----+-----------+\n",
            "only showing top 20 rows\n",
            "\n"
          ]
        }
      ],
      "source": [
        "connections.show()"
      ]
    },
    {
      "cell_type": "code",
      "execution_count": 19,
      "metadata": {
        "id": "0Otp7QIky_jr"
      },
      "outputs": [],
      "source": [
        "mostPopular = connections.sort(F.col(\"connections\").desc()).first()"
      ]
    },
    {
      "cell_type": "code",
      "execution_count": 20,
      "metadata": {
        "colab": {
          "base_uri": "https://localhost:8080/"
        },
        "id": "VRad5Qi5zOmE",
        "outputId": "3806be3b-40cb-4757-ddcd-e2c8dd7c4559"
      },
      "outputs": [
        {
          "output_type": "execute_result",
          "data": {
            "text/plain": [
              "Row(id='859', connections=1933)"
            ]
          },
          "metadata": {},
          "execution_count": 20
        }
      ],
      "source": [
        "mostPopular"
      ]
    },
    {
      "cell_type": "code",
      "execution_count": 21,
      "metadata": {
        "id": "CwJpgfYxzR9r"
      },
      "outputs": [],
      "source": [
        "mostPopularName = names.filter(F.col(\"id\") == mostPopular[0]).select(\"name\").first()"
      ]
    },
    {
      "cell_type": "code",
      "execution_count": 22,
      "metadata": {
        "colab": {
          "base_uri": "https://localhost:8080/"
        },
        "id": "g8bcanJPzcP2",
        "outputId": "5f58ebd5-b930-41e4-972c-fd684eb59556"
      },
      "outputs": [
        {
          "output_type": "stream",
          "name": "stdout",
          "text": [
            "CAPTAIN AMERICA가 가장 인기 있는 슈퍼 히어로로 총 1933번 다른 히어로들과 출연했습니다.\n"
          ]
        }
      ],
      "source": [
        "print(mostPopularName[0] + \"가 가장 인기 있는 슈퍼 히어로로 총 \" + str(mostPopular[1]) + \"번 다른 히어로들과 출연했습니다.\")"
      ]
    },
    {
      "cell_type": "markdown",
      "metadata": {
        "id": "jvvdthcczyb1"
      },
      "source": [
        "### 위 후반부 문제 풀이를 Spark SQL로 해보자"
      ]
    },
    {
      "cell_type": "code",
      "execution_count": 23,
      "metadata": {
        "id": "Y5ZW2Vt_znca"
      },
      "outputs": [],
      "source": [
        "id_connections.createOrReplaceTempView(\"id_connections\")\n",
        "names.createOrReplaceTempView(\"names\")"
      ]
    },
    {
      "cell_type": "code",
      "execution_count": 24,
      "metadata": {
        "colab": {
          "base_uri": "https://localhost:8080/"
        },
        "id": "BFpRXjaH0W2B",
        "outputId": "2db9cce9-865e-4e23-d198-10f75b21bbd9"
      },
      "outputs": [
        {
          "output_type": "stream",
          "name": "stdout",
          "text": [
            "+-------+--------------------+-----------+\n",
            "|conn_id|                name|connections|\n",
            "+-------+--------------------+-----------+\n",
            "|    859|     CAPTAIN AMERICA|       1933|\n",
            "|   5306|SPIDER-MAN/PETER PAR|       1741|\n",
            "|   2664|IRON MAN/TONY STARK |       1528|\n",
            "|   5716|THING/BENJAMIN J. GR|       1426|\n",
            "|   6306|    WOLVERINE/LOGAN |       1394|\n",
            "|   3805|MR. FANTASTIC/REED R|       1386|\n",
            "|   2557|HUMAN TORCH/JOHNNY S|       1371|\n",
            "|   4898|SCARLET WITCH/WANDA |       1345|\n",
            "|   5736|THOR/DR. DONALD BLAK|       1289|\n",
            "|    403|BEAST/HENRY &HANK& P|       1280|\n",
            "|   6066|             VISION |       1263|\n",
            "|   2650|INVISIBLE WOMAN/SUE |       1244|\n",
            "|   2399|                HAWK|       1176|\n",
            "|   1289|CYCLOPS/SCOTT SUMMER|       1104|\n",
            "|   5467|STORM/ORORO MUNROE S|       1095|\n",
            "|    133|ANGEL/WARREN KENNETH|       1094|\n",
            "|   6148|WASP/JANET VAN DYNE |       1093|\n",
            "|    154|ANT-MAN/DR. HENRY J.|       1092|\n",
            "|   5046|SHE-HULK/JENNIFER WA|       1080|\n",
            "|   1602|DR. STRANGE/STEPHEN |       1079|\n",
            "+-------+--------------------+-----------+\n",
            "only showing top 20 rows\n",
            "\n"
          ]
        }
      ],
      "source": [
        "spark.sql(\"\"\"\n",
        "  SELECT c.id AS conn_id, n.name AS name, SUM(c.connections) AS connections\n",
        "  FROM id_connections AS c\n",
        "  INNER JOIN names AS n\n",
        "    ON c.id = n.id\n",
        "  GROUP BY conn_id, name\n",
        "  ORDER BY connections DESC;\n",
        "\"\"\").show()"
      ]
    },
    {
      "cell_type": "markdown",
      "metadata": {
        "id": "vyhYzOBx1BV6"
      },
      "source": [
        "### 이번에는 UDF를 사용해서 히어로 ID Lookup을 구현해보자"
      ]
    },
    {
      "cell_type": "code",
      "execution_count": 25,
      "metadata": {
        "id": "FrXWKh__0wuO"
      },
      "outputs": [],
      "source": [
        "def returnName(id: str) -> str:\n",
        "  return id2Names.get(id) # closure 에서 lookup하는 경우 (task 기반 직렬화 가능 -> 성능 저하)\n",
        "  # return broadcast_id2Names.value.get(id) # broadcast variable 기반 수행 (worker 별로 직렬화 가능 -> 성능이 상대적으로 양호)"
      ]
    },
    {
      "cell_type": "code",
      "execution_count": 26,
      "metadata": {
        "id": "TI-d5xe01Xi0"
      },
      "outputs": [],
      "source": [
        "id2Names = names.rdd.collectAsMap()"
      ]
    },
    {
      "cell_type": "code",
      "execution_count": 27,
      "metadata": {
        "colab": {
          "base_uri": "https://localhost:8080/"
        },
        "id": "uLWIqGA_1a9T",
        "outputId": "ded685b9-3805-4fad-a0ff-5b962514c322"
      },
      "outputs": [
        {
          "output_type": "execute_result",
          "data": {
            "text/plain": [
              "19428"
            ]
          },
          "metadata": {},
          "execution_count": 27
        }
      ],
      "source": [
        "len(id2Names)"
      ]
    },
    {
      "cell_type": "code",
      "execution_count": 28,
      "metadata": {
        "colab": {
          "base_uri": "https://localhost:8080/"
        },
        "id": "xbPU6vXp1cq0",
        "outputId": "421e57b3-9f5c-4bf2-818e-9d7ec9ae3aa4"
      },
      "outputs": [
        {
          "output_type": "stream",
          "name": "stdout",
          "text": [
            "1 24-HOUR MAN/EMMANUEL\n",
            "2 3-D MAN/CHARLES CHAN\n",
            "3 4-D MAN/MERCURIO\n",
            "4 8-BALL/\n",
            "5 A\n",
            "6 A'YIN\n",
            "7 ABBOTT, JACK\n",
            "8 ABCISSA\n",
            "9 ABEL\n",
            "10 ABOMINATION/EMIL BLO\n"
          ]
        }
      ],
      "source": [
        "for idx, id in enumerate(id2Names):\n",
        "  if idx >= 10:\n",
        "    break\n",
        "  print(id, id2Names[id])"
      ]
    },
    {
      "cell_type": "code",
      "execution_count": 29,
      "metadata": {
        "id": "p1Tv-BXc1jZR"
      },
      "outputs": [],
      "source": [
        "broadcast_id2Names = spark.sparkContext.broadcast(id2Names)"
      ]
    },
    {
      "cell_type": "code",
      "execution_count": 30,
      "metadata": {
        "colab": {
          "base_uri": "https://localhost:8080/",
          "height": 34
        },
        "id": "BUSn1qLX2F2j",
        "outputId": "332e4be4-6ecc-44e3-d582-7c2afb8f2326"
      },
      "outputs": [
        {
          "output_type": "execute_result",
          "data": {
            "text/plain": [
              "'CAPTAIN AMERICA'"
            ],
            "application/vnd.google.colaboratory.intrinsic+json": {
              "type": "string"
            }
          },
          "metadata": {},
          "execution_count": 30
        }
      ],
      "source": [
        "broadcast_id2Names.value.get('859')"
      ]
    },
    {
      "cell_type": "code",
      "execution_count": 31,
      "metadata": {
        "colab": {
          "base_uri": "https://localhost:8080/",
          "height": 104
        },
        "id": "VUTc6URC2JuS",
        "outputId": "e687b9f6-9d7e-4c92-84f3-454319c9b99f"
      },
      "outputs": [
        {
          "output_type": "execute_result",
          "data": {
            "text/plain": [
              "<function __main__.returnName(id: str) -> str>"
            ],
            "text/html": [
              "<div style=\"max-width:800px; border: 1px solid var(--colab-border-color);\"><style>\n",
              "      pre.function-repr-contents {\n",
              "        overflow-x: auto;\n",
              "        padding: 8px 12px;\n",
              "        max-height: 500px;\n",
              "      }\n",
              "\n",
              "      pre.function-repr-contents.function-repr-contents-collapsed {\n",
              "        cursor: pointer;\n",
              "        max-height: 100px;\n",
              "      }\n",
              "    </style>\n",
              "    <pre style=\"white-space: initial; background:\n",
              "         var(--colab-secondary-surface-color); padding: 8px 12px;\n",
              "         border-bottom: 1px solid var(--colab-border-color);\"><b>returnName</b><br/>def returnName(id: str) -&gt; str</pre><pre class=\"function-repr-contents function-repr-contents-collapsed\" style=\"\"><a class=\"filepath\" style=\"display:none\" href=\"#\">/content/&lt;ipython-input-25-78fac44d420d&gt;</a>&lt;no docstring&gt;</pre></div>"
            ]
          },
          "metadata": {},
          "execution_count": 31
        }
      ],
      "source": [
        "spark.udf.register(\"returnName\", returnName, StringType())"
      ]
    },
    {
      "cell_type": "code",
      "execution_count": 32,
      "metadata": {
        "colab": {
          "base_uri": "https://localhost:8080/"
        },
        "id": "LlAUoASq2O-B",
        "outputId": "40e35dfe-088b-45f7-f81e-ac5e1fb38bc9"
      },
      "outputs": [
        {
          "output_type": "stream",
          "name": "stdout",
          "text": [
            "+--------------------+----+-----------+--------------------+\n",
            "|               value|  id|connections|                name|\n",
            "+--------------------+----+-----------+--------------------+\n",
            "|5988 748 1722 375...|5988|         48|VALKYRIE II | MUTANT|\n",
            "|5989 4080 4264 44...|5989|         40|         VALKYRIE IV|\n",
            "|5982 217 595 1194...|5982|         42|VAGABOND/PRISCILLA L|\n",
            "|5983 1165 3836 43...|5983|         14|              VAGUE/|\n",
            "|5980 2731 3712 15...|5980|         24|         UTGARD-LOKI|\n",
            "|5981 3569 5353 40...|5981|         17|              VACUUM|\n",
            "|5986 2658 3712 26...|5986|        142|             VALINOR|\n",
            "|5987 2614 5716 17...|5987|         81|              VALKIN|\n",
            "|5984 590 4898 745...|5984|         41|              VAKUME|\n",
            "|5985 3233 2254 21...|5985|         19|             VALERIA|\n",
            "|6294 4898 1127 32...|6294|         13|WOLF SPIRIT/OWAYODAT|\n",
            "|270 2658 3003 380...| 270|         42|AUGUST PERSONAGE IN |\n",
            "|271 4935 5716 430...| 271|          9|      AUNTIE FREEZE/|\n",
            "|272 2717 4363 408...| 272|         45|       AURA/ANN HERD|\n",
            "|273 1165 5013 511...| 273|         58|              AURIC/|\n",
            "|274 3920 5310 402...| 274|        410|AURORA/JEANNE-MARIE |\n",
            "|275 4366 3373 158...| 275|         47| AURORA DOPPELGANGER|\n",
            "|276 2277 5251 480...| 276|         15|AURORA | MUTANT X-VE|\n",
            "|277 1068 3495 619...| 277|         16|        AUSTIN, GEN.|\n",
            "|278 1145 667 2650...| 278|        123|       AUSTIN, SUSAN|\n",
            "+--------------------+----+-----------+--------------------+\n",
            "only showing top 20 rows\n",
            "\n"
          ]
        }
      ],
      "source": [
        "id_connections.withColumn(\"name\", F.expr(\"returnName(id)\")).show()"
      ]
    }
  ],
  "metadata": {
    "colab": {
      "provenance": []
    },
    "kernelspec": {
      "display_name": "Python 3",
      "name": "python3"
    },
    "language_info": {
      "codemirror_mode": {
        "name": "ipython",
        "version": 3
      },
      "file_extension": ".py",
      "mimetype": "text/x-python",
      "name": "python",
      "nbconvert_exporter": "python",
      "pygments_lexer": "ipython3",
      "version": "3.10.12"
    }
  },
  "nbformat": 4,
  "nbformat_minor": 0
}